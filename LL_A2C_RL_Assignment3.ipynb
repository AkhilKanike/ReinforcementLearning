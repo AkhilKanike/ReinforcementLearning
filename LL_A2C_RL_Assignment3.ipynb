{
  "nbformat": 4,
  "nbformat_minor": 0,
  "metadata": {
    "kernelspec": {
      "display_name": "Python 3",
      "language": "python",
      "name": "python3"
    },
    "language_info": {
      "codemirror_mode": {
        "name": "ipython",
        "version": 3
      },
      "file_extension": ".py",
      "mimetype": "text/x-python",
      "name": "python",
      "nbconvert_exporter": "python",
      "pygments_lexer": "ipython3",
      "version": "3.7.6"
    },
    "colab": {
      "name": "LL_A2C_RL_Assignment3.ipynb",
      "provenance": [],
      "collapsed_sections": []
    },
    "accelerator": "TPU"
  },
  "cells": [
    {
      "cell_type": "code",
      "metadata": {
        "colab": {
          "base_uri": "https://localhost:8080/"
        },
        "id": "CcqHyN5za33Y",
        "outputId": "77605df8-3481-49fb-cbe3-fe466dc5744b"
      },
      "source": [
        "!pip install gym\n",
        "!pip3 install box2d-py\n",
        "!pip3 install gym[Box_2D]"
      ],
      "execution_count": 1,
      "outputs": [
        {
          "output_type": "stream",
          "name": "stdout",
          "text": [
            "Requirement already satisfied: gym in /usr/local/lib/python3.7/dist-packages (0.17.3)\n",
            "Requirement already satisfied: pyglet<=1.5.0,>=1.4.0 in /usr/local/lib/python3.7/dist-packages (from gym) (1.5.0)\n",
            "Requirement already satisfied: numpy>=1.10.4 in /usr/local/lib/python3.7/dist-packages (from gym) (1.19.5)\n",
            "Requirement already satisfied: scipy in /usr/local/lib/python3.7/dist-packages (from gym) (1.4.1)\n",
            "Requirement already satisfied: cloudpickle<1.7.0,>=1.2.0 in /usr/local/lib/python3.7/dist-packages (from gym) (1.3.0)\n",
            "Requirement already satisfied: future in /usr/local/lib/python3.7/dist-packages (from pyglet<=1.5.0,>=1.4.0->gym) (0.16.0)\n",
            "Requirement already satisfied: box2d-py in /usr/local/lib/python3.7/dist-packages (2.3.8)\n",
            "Requirement already satisfied: gym[Box_2D] in /usr/local/lib/python3.7/dist-packages (0.17.3)\n",
            "\u001b[33mWARNING: gym 0.17.3 does not provide the extra 'box_2d'\u001b[0m\n",
            "Requirement already satisfied: scipy in /usr/local/lib/python3.7/dist-packages (from gym[Box_2D]) (1.4.1)\n",
            "Requirement already satisfied: numpy>=1.10.4 in /usr/local/lib/python3.7/dist-packages (from gym[Box_2D]) (1.19.5)\n",
            "Requirement already satisfied: cloudpickle<1.7.0,>=1.2.0 in /usr/local/lib/python3.7/dist-packages (from gym[Box_2D]) (1.3.0)\n",
            "Requirement already satisfied: pyglet<=1.5.0,>=1.4.0 in /usr/local/lib/python3.7/dist-packages (from gym[Box_2D]) (1.5.0)\n",
            "Requirement already satisfied: future in /usr/local/lib/python3.7/dist-packages (from pyglet<=1.5.0,>=1.4.0->gym[Box_2D]) (0.16.0)\n"
          ]
        }
      ]
    },
    {
      "cell_type": "code",
      "metadata": {
        "id": "qKmeKmYGEcKW"
      },
      "source": [
        "import gym\n",
        "from gym import spaces\n",
        "import numpy as np\n",
        "from google.colab import widgets\n",
        "import time\n",
        "import random\n",
        "from collections import deque\n",
        "import copy\n",
        "from statistics import mean\n",
        "from itertools import count\n",
        "from collections import namedtuple\n",
        "import matplotlib.pyplot as plt\n",
        "import torch\n",
        "import torch.nn as nn\n",
        "import torch.nn.functional as F\n",
        "import torch.optim as optim\n",
        "from torch.distributions import Categorical"
      ],
      "execution_count": 2,
      "outputs": []
    },
    {
      "cell_type": "markdown",
      "metadata": {
        "id": "j9tFY8U_Rlyo"
      },
      "source": [
        "# **Lunar Landing Environment**"
      ]
    },
    {
      "cell_type": "code",
      "metadata": {
        "id": "ZBH4vfYQEcKZ",
        "colab": {
          "base_uri": "https://localhost:8080/"
        },
        "outputId": "9ba445a1-a44f-4c1c-9498-c259ce635485"
      },
      "source": [
        "env = gym.make('LunarLander-v2')\n",
        "env.seed(0)\n",
        "print('Observation space: ', env.observation_space.shape)\n",
        "print('Action space: ', env.action_space.n)"
      ],
      "execution_count": 3,
      "outputs": [
        {
          "output_type": "stream",
          "name": "stdout",
          "text": [
            "Observation space:  (8,)\n",
            "Action space:  4\n"
          ]
        }
      ]
    },
    {
      "cell_type": "markdown",
      "metadata": {
        "id": "f6JT7TRMYUXF"
      },
      "source": [
        "# Actor-Critic"
      ]
    },
    {
      "cell_type": "code",
      "metadata": {
        "id": "iySnqX-fEcKb"
      },
      "source": [
        "class ActorCritic(nn.Module):\n",
        "    def __init__(self):\n",
        "        super(ActorCritic, self).__init__()\n",
        "        self.fc1 = nn.Linear(8, 256)\n",
        "        self.actor = nn.Linear(256, 4)\n",
        "        self.critic = nn.Linear(256, 1)\n",
        "        self.saved_actions = []\n",
        "        self.rewards = []\n",
        "    def forward(self, x):\n",
        "        x = F.relu(self.fc1(x))\n",
        "        action_prob = F.softmax(self.actor(x), dim=-1)\n",
        "        state_values = self.critic(x)\n",
        "        return action_prob, state_values"
      ],
      "execution_count": 4,
      "outputs": []
    },
    {
      "cell_type": "code",
      "metadata": {
        "id": "tjO7F59gEcKc"
      },
      "source": [
        "def select_action(state):\n",
        "    state = torch.from_numpy(state).float()\n",
        "    probs, state_value = model(state)\n",
        "    m = Categorical(probs)\n",
        "    action = m.sample()\n",
        "    model.saved_actions.append(SavedAction(m.log_prob(action), state_value))\n",
        "    return action.item()"
      ],
      "execution_count": 5,
      "outputs": []
    },
    {
      "cell_type": "code",
      "metadata": {
        "id": "eTouCwcuEcKd"
      },
      "source": [
        "def finish_episode():\n",
        "    R = 0\n",
        "    saved_actions = model.saved_actions\n",
        "    policy_losses = []\n",
        "    value_losses =[]\n",
        "    returns = []\n",
        "    \n",
        "    for r in model.rewards[::-1]:\n",
        "        R = r + 0.96 * R\n",
        "        returns.insert(0, R)\n",
        "    returns = torch.tensor(returns)\n",
        "    returns = (returns - returns.mean()) / (returns.std() + eps)\n",
        "    \n",
        "    for (log_prob, value), R in zip(saved_actions, returns):\n",
        "        advantage = R - value.item()\n",
        "        \n",
        "        policy_losses.append(-log_prob * advantage)\n",
        "        value_losses.append(F.smooth_l1_loss(value, torch.tensor([R])))\n",
        "    \n",
        "    optimizer.zero_grad()\n",
        "    loss = torch.stack(policy_losses).sum() + torch.stack(value_losses).sum()\n",
        "    \n",
        "    loss.backward()\n",
        "    optimizer.step()\n",
        "    \n",
        "    del model.rewards[:]\n",
        "    del model.saved_actions[:]"
      ],
      "execution_count": 6,
      "outputs": []
    },
    {
      "cell_type": "code",
      "metadata": {
        "id": "9nZuuy9KEcKe"
      },
      "source": [
        "model = ActorCritic()\n",
        "optimizer = optim.Adam(model.parameters(), lr=0.0099)\n",
        "eps = np.finfo(np.float32).eps.item()"
      ],
      "execution_count": 7,
      "outputs": []
    },
    {
      "cell_type": "code",
      "metadata": {
        "colab": {
          "base_uri": "https://localhost:8080/"
        },
        "id": "dKee23AxEcKe",
        "outputId": "eb339ea8-8ee3-44f2-8ce4-27d23cbd7bd2"
      },
      "source": [
        "SavedAction = namedtuple('SavedAction', ['log_prob', 'value'])\n",
        "RewardStats= []\n",
        "for i_episode in range(10000):\n",
        "    state = env.reset()\n",
        "    Total_reward = 0\n",
        "    for t in range(1, 1000):\n",
        "        action = select_action(state)\n",
        "        state, reward, done, _ = env.step(action)\n",
        "        model.rewards.append(reward)\n",
        "        Total_reward+= reward\n",
        "        if done:\n",
        "            break\n",
        "    RewardStats.append(Total_reward)\n",
        "    finish_episode()\n",
        "    if i_episode % 100 == 0:\n",
        "        print(\"Episode {}\\tLast Reward: {:.2f}\\tAverage reward: {:.2f}\".format(\n",
        "            i_episode, Total_reward, mean(RewardStats[-100:])\n",
        "        ))\n",
        "    if mean(RewardStats[-100:]) >= 195:\n",
        "        print(\"Solved, Average reward is now {} \".format(\n",
        "                mean(RewardStats[-100:])))\n",
        "        break"
      ],
      "execution_count": 8,
      "outputs": [
        {
          "output_type": "stream",
          "name": "stdout",
          "text": [
            "Episode 0\tLast Reward: -145.63\tAverage reward: -145.63\n",
            "Episode 100\tLast Reward: -63.52\tAverage reward: -259.94\n",
            "Episode 200\tLast Reward: -152.33\tAverage reward: -54.04\n",
            "Episode 300\tLast Reward: 192.39\tAverage reward: 51.10\n",
            "Episode 400\tLast Reward: 183.66\tAverage reward: 155.02\n",
            "Solved, Average reward is now 195.40074336327234 \n"
          ]
        }
      ]
    },
    {
      "cell_type": "code",
      "metadata": {
        "id": "T2t0lUcnEcKf",
        "colab": {
          "base_uri": "https://localhost:8080/",
          "height": 282
        },
        "outputId": "b3ebb2dc-b678-4602-aed1-8fc30887785b"
      },
      "source": [
        "plt.plot(RewardStats)"
      ],
      "execution_count": 9,
      "outputs": [
        {
          "output_type": "execute_result",
          "data": {
            "text/plain": [
              "[<matplotlib.lines.Line2D at 0x7f263e74c1d0>]"
            ]
          },
          "metadata": {},
          "execution_count": 9
        },
        {
          "output_type": "display_data",
          "data": {
            "image/png": "[encoded data removed]",
            "text/plain": [
              "<Figure size 432x288 with 1 Axes>"
            ]
          },
          "metadata": {
            "needs_background": "light"
          }
        }
      ]
    },
    {
      "cell_type": "code",
      "metadata": {
        "id": "Gi45JrovEcKg",
        "colab": {
          "base_uri": "https://localhost:8080/"
        },
        "outputId": "9099d8ea-ce9e-4ee4-e754-a010c48fb2a2"
      },
      "source": [
        "test_rewards = []\n",
        "for each_episode in range(10):\n",
        "    obs = env.reset()\n",
        "    done = False \n",
        "    t=0\n",
        "    total_reward = 0\n",
        "    print(\"Episode : \", each_episode)\n",
        "\n",
        "    while(not done):\n",
        "        t += 1\n",
        "        action = select_action(obs)\n",
        "        obs, reward, done, _ = env.step(action)\n",
        "        total_reward = total_reward + reward\n",
        "        \n",
        "    test_rewards.append(total_reward)\n",
        "    print(\"Total Reward in this episode : \", total_reward)"
      ],
      "execution_count": 10,
      "outputs": [
        {
          "output_type": "stream",
          "name": "stdout",
          "text": [
            "Episode :  0\n",
            "Total Reward in this episode :  218.06420133302842\n",
            "Episode :  1\n",
            "Total Reward in this episode :  262.5693925992391\n",
            "Episode :  2\n",
            "Total Reward in this episode :  218.12006898367588\n",
            "Episode :  3\n",
            "Total Reward in this episode :  230.06144048818481\n",
            "Episode :  4\n",
            "Total Reward in this episode :  284.82618842387785\n",
            "Episode :  5\n",
            "Total Reward in this episode :  271.79382119813323\n",
            "Episode :  6\n",
            "Total Reward in this episode :  162.28604146971506\n",
            "Episode :  7\n",
            "Total Reward in this episode :  241.55590400244557\n",
            "Episode :  8\n",
            "Total Reward in this episode :  -17.60300047475826\n",
            "Episode :  9\n",
            "Total Reward in this episode :  235.6202666975762\n"
          ]
        }
      ]
    },
    {
      "cell_type": "code",
      "metadata": {
        "id": "ETON96_QEcKg",
        "colab": {
          "base_uri": "https://localhost:8080/",
          "height": 282
        },
        "outputId": "261be3fa-9ad9-46c9-d4ce-eada7a9e2622"
      },
      "source": [
        "plt.plot(test_rewards)"
      ],
      "execution_count": 11,
      "outputs": [
        {
          "output_type": "execute_result",
          "data": {
            "text/plain": [
              "[<matplotlib.lines.Line2D at 0x7f263dd02c10>]"
            ]
          },
          "metadata": {},
          "execution_count": 11
        },
        {
          "output_type": "display_data",
          "data": {
            "image/png": "[encoded data removed]",
            "text/plain": [
              "<Figure size 432x288 with 1 Axes>"
            ]
          },
          "metadata": {
            "needs_background": "light"
          }
        }
      ]
    },
    {
      "cell_type": "code",
      "metadata": {
        "colab": {
          "base_uri": "https://localhost:8080/"
        },
        "id": "4CCgH7J1II7D",
        "outputId": "fe6d4761-29b5-4fd7-c997-40e3b4e4481b"
      },
      "source": [
        "test_rewards = []\n",
        "for each_episode in range(10):\n",
        "    obs = env.reset()\n",
        "    done = False \n",
        "    t=0\n",
        "    total_reward = 0\n",
        "    print(\"Episode : \", each_episode)\n",
        "\n",
        "    while(not done):\n",
        "        t += 1\n",
        "        action = select_action(obs)\n",
        "        obs, reward, done, _ = env.step(action)\n",
        "        total_reward = total_reward + reward\n",
        "        \n",
        "    test_rewards.append(total_reward)\n",
        "    print(\"Total Reward in this episode : \", total_reward)"
      ],
      "execution_count": 12,
      "outputs": [
        {
          "output_type": "stream",
          "name": "stdout",
          "text": [
            "Episode :  0\n",
            "Total Reward in this episode :  269.90332282776325\n",
            "Episode :  1\n",
            "Total Reward in this episode :  252.39079937302387\n",
            "Episode :  2\n",
            "Total Reward in this episode :  152.72449581485364\n",
            "Episode :  3\n",
            "Total Reward in this episode :  270.5257141064627\n",
            "Episode :  4\n",
            "Total Reward in this episode :  238.46402075110404\n",
            "Episode :  5\n",
            "Total Reward in this episode :  255.31368843474473\n",
            "Episode :  6\n",
            "Total Reward in this episode :  288.2298770422437\n",
            "Episode :  7\n",
            "Total Reward in this episode :  235.9708950944435\n",
            "Episode :  8\n",
            "Total Reward in this episode :  248.9512426257423\n",
            "Episode :  9\n",
            "Total Reward in this episode :  289.6572638718915\n"
          ]
        }
      ]
    },
    {
      "cell_type": "code",
      "metadata": {
        "colab": {
          "base_uri": "https://localhost:8080/",
          "height": 282
        },
        "id": "be-Pv8aIIKP6",
        "outputId": "e628489b-8c68-4bb8-b95f-fe0452cbaf4b"
      },
      "source": [
        "plt.plot(test_rewards)"
      ],
      "execution_count": 13,
      "outputs": [
        {
          "output_type": "execute_result",
          "data": {
            "text/plain": [
              "[<matplotlib.lines.Line2D at 0x7f263d72a150>]"
            ]
          },
          "metadata": {},
          "execution_count": 13
        },
        {
          "output_type": "display_data",
          "data": {
            "image/png": "[encoded data removed]",
            "text/plain": [
              "<Figure size 432x288 with 1 Axes>"
            ]
          },
          "metadata": {
            "needs_background": "light"
          }
        }
      ]
    },
    {
      "cell_type": "code",
      "metadata": {
        "colab": {
          "base_uri": "https://localhost:8080/",
          "height": 17
        },
        "id": "EiQ8t4xhKs0Y",
        "outputId": "9878911e-5e37-4875-91fd-c295b7cb943f"
      },
      "source": [
        "from google.colab import files\n",
        "\n",
        "torch.save(model, 'LL_A2C_Checkpoint.pth')\n",
        "files.download('LL_A2C_Checkpoint.pth') "
      ],
      "execution_count": 17,
      "outputs": [
        {
          "output_type": "display_data",
          "data": {
            "application/javascript": [
              "\n",
              "    async function download(id, filename, size) {\n",
              "      if (!google.colab.kernel.accessAllowed) {\n",
              "        return;\n",
              "      }\n",
              "      const div = document.createElement('div');\n",
              "      const label = document.createElement('label');\n",
              "      label.textContent = `Downloading \"${filename}\": `;\n",
              "      div.appendChild(label);\n",
              "      const progress = document.createElement('progress');\n",
              "      progress.max = size;\n",
              "      div.appendChild(progress);\n",
              "      document.body.appendChild(div);\n",
              "\n",
              "      const buffers = [];\n",
              "      let downloaded = 0;\n",
              "\n",
              "      const channel = await google.colab.kernel.comms.open(id);\n",
              "      // Send a message to notify the kernel that we're ready.\n",
              "      channel.send({})\n",
              "\n",
              "      for await (const message of channel.messages) {\n",
              "        // Send a message to notify the kernel that we're ready.\n",
              "        channel.send({})\n",
              "        if (message.buffers) {\n",
              "          for (const buffer of message.buffers) {\n",
              "            buffers.push(buffer);\n",
              "            downloaded += buffer.byteLength;\n",
              "            progress.value = downloaded;\n",
              "          }\n",
              "        }\n",
              "      }\n",
              "      const blob = new Blob(buffers, {type: 'application/binary'});\n",
              "      const a = document.createElement('a');\n",
              "      a.href = window.URL.createObjectURL(blob);\n",
              "      a.download = filename;\n",
              "      div.appendChild(a);\n",
              "      a.click();\n",
              "      div.remove();\n",
              "    }\n",
              "  "
            ],
            "text/plain": [
              "<IPython.core.display.Javascript object>"
            ]
          },
          "metadata": {}
        },
        {
          "output_type": "display_data",
          "data": {
            "application/javascript": [
              "download(\"download_ccdee483-39b5-4553-8b7d-dbaffb886b3c\", \"LL_A2C_Checkpoint.pth\", 4016137)"
            ],
            "text/plain": [
              "<IPython.core.display.Javascript object>"
            ]
          },
          "metadata": {}
        }
      ]
    }
  ]
}