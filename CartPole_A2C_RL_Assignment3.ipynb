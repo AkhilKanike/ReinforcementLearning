{
  "nbformat": 4,
  "nbformat_minor": 0,
  "metadata": {
    "kernelspec": {
      "display_name": "Python 3",
      "language": "python",
      "name": "python3"
    },
    "language_info": {
      "codemirror_mode": {
        "name": "ipython",
        "version": 3
      },
      "file_extension": ".py",
      "mimetype": "text/x-python",
      "name": "python",
      "nbconvert_exporter": "python",
      "pygments_lexer": "ipython3",
      "version": "3.7.6"
    },
    "colab": {
      "name": "CartPole_A2C_RL_Assignment3.ipynb",
      "provenance": [],
      "collapsed_sections": []
    }
  },
  "cells": [
    {
      "cell_type": "code",
      "metadata": {
        "id": "qKmeKmYGEcKW"
      },
      "source": [
        "import gym\n",
        "from gym import spaces\n",
        "import numpy as np\n",
        "from google.colab import widgets\n",
        "import time\n",
        "import random\n",
        "from collections import deque\n",
        "import copy\n",
        "from statistics import mean\n",
        "from itertools import count\n",
        "from collections import namedtuple\n",
        "import matplotlib.pyplot as plt\n",
        "import torch\n",
        "import torch.nn as nn\n",
        "import torch.nn.functional as F\n",
        "import torch.optim as optim\n",
        "from torch.distributions import Categorical"
      ],
      "execution_count": 1,
      "outputs": []
    },
    {
      "cell_type": "markdown",
      "metadata": {
        "id": "Wisj72ZIFfhx"
      },
      "source": [
        "# **Cart Pole Environment**"
      ]
    },
    {
      "cell_type": "code",
      "metadata": {
        "id": "ZBH4vfYQEcKZ"
      },
      "source": [
        "env = gym.make('CartPole-v1')"
      ],
      "execution_count": 2,
      "outputs": []
    },
    {
      "cell_type": "code",
      "metadata": {
        "colab": {
          "base_uri": "https://localhost:8080/"
        },
        "id": "U8_PXvt2EcKa",
        "outputId": "4a04a52c-7805-4745-935d-d789c2210767"
      },
      "source": [
        "print(\"There are {} actions\".format(env.action_space.n))"
      ],
      "execution_count": 3,
      "outputs": [
        {
          "output_type": "stream",
          "name": "stdout",
          "text": [
            "There are 2 actions\n"
          ]
        }
      ]
    },
    {
      "cell_type": "markdown",
      "metadata": {
        "id": "X_kYOZ9vFlBT"
      },
      "source": [
        "# Actor - Critic"
      ]
    },
    {
      "cell_type": "code",
      "metadata": {
        "id": "iySnqX-fEcKb"
      },
      "source": [
        "class ActorCritic(nn.Module):\n",
        "    def __init__(self):\n",
        "        super(ActorCritic, self).__init__()\n",
        "        self.fc1 = nn.Linear(4, 128)\n",
        "        self.actor = nn.Linear(128, 2)\n",
        "        self.critic = nn.Linear(128, 1)\n",
        "        self.saved_actions = []\n",
        "        self.rewards = []\n",
        "    def forward(self, x):\n",
        "        x = F.relu(self.fc1(x))\n",
        "        action_prob = F.softmax(self.actor(x), dim=-1)\n",
        "        state_values = self.critic(x)\n",
        "        return action_prob, state_values"
      ],
      "execution_count": 4,
      "outputs": []
    },
    {
      "cell_type": "code",
      "metadata": {
        "id": "tjO7F59gEcKc"
      },
      "source": [
        "def select_action(state):\n",
        "    state = torch.from_numpy(state).float()\n",
        "    probs, state_value = model(state)\n",
        "    m = Categorical(probs)\n",
        "    action = m.sample()\n",
        "    model.saved_actions.append(SavedAction(m.log_prob(action), state_value))\n",
        "    return action.item()"
      ],
      "execution_count": 5,
      "outputs": []
    },
    {
      "cell_type": "code",
      "metadata": {
        "id": "eTouCwcuEcKd"
      },
      "source": [
        "def finish_episode():\n",
        "    R = 0\n",
        "    saved_actions = model.saved_actions\n",
        "    policy_losses = []\n",
        "    value_losses =[]\n",
        "    returns = []\n",
        "    \n",
        "    for r in model.rewards[::-1]:\n",
        "        R = r + 0.95 * R\n",
        "        returns.insert(0, R)\n",
        "    returns = torch.tensor(returns)\n",
        "    returns = (returns - returns.mean()) / (returns.std() + eps)\n",
        "    \n",
        "    for (log_prob, value), R in zip(saved_actions, returns):\n",
        "        advantage = R - value.item()\n",
        "        \n",
        "        policy_losses.append(-log_prob * advantage)\n",
        "        value_losses.append(F.smooth_l1_loss(value, torch.tensor([R])))\n",
        "    \n",
        "    optimizer.zero_grad()\n",
        "    loss = torch.stack(policy_losses).sum() + torch.stack(value_losses).sum()\n",
        "    \n",
        "    loss.backward()\n",
        "    optimizer.step()\n",
        "    \n",
        "    del model.rewards[:]\n",
        "    del model.saved_actions[:]"
      ],
      "execution_count": 6,
      "outputs": []
    },
    {
      "cell_type": "code",
      "metadata": {
        "id": "9nZuuy9KEcKe"
      },
      "source": [
        "model = ActorCritic()\n",
        "optimizer = optim.Adam(model.parameters(), lr=5e-3)\n",
        "eps = np.finfo(np.float32).eps.item()"
      ],
      "execution_count": 7,
      "outputs": []
    },
    {
      "cell_type": "code",
      "metadata": {
        "colab": {
          "base_uri": "https://localhost:8080/"
        },
        "id": "dKee23AxEcKe",
        "outputId": "2d63a12a-c875-4fcd-be96-94657be7b6ab"
      },
      "source": [
        "SavedAction = namedtuple('SavedAction', ['log_prob', 'value'])\n",
        "RewardStats= []\n",
        "for i_episode in range(1000):\n",
        "    state = env.reset()\n",
        "    Total_reward = 0\n",
        "    for t in range(1, 1000):\n",
        "        action = select_action(state)\n",
        "        state, reward, done, _ = env.step(action)\n",
        "        model.rewards.append(reward)\n",
        "        Total_reward+= reward\n",
        "        if done:\n",
        "            break\n",
        "    RewardStats.append(Total_reward)\n",
        "    finish_episode()\n",
        "    if i_episode % 100 == 0:\n",
        "        print(\"Episode {}\\tLast Reward: {:.2f}\\tAverage reward: {:.2f}\".format(\n",
        "            i_episode, Total_reward, mean(RewardStats[-100:])\n",
        "        ))\n",
        "    if mean(RewardStats[-100:]) >= 200:\n",
        "        print(\"Solved, Average reward is now {} \".format(\n",
        "                mean(RewardStats[-100:])\n",
        "        ))\n",
        "        break"
      ],
      "execution_count": 8,
      "outputs": [
        {
          "output_type": "stream",
          "name": "stdout",
          "text": [
            "Episode 0\tLast Reward: 15.00\tAverage reward: 15.00\n",
            "Episode 100\tLast Reward: 35.00\tAverage reward: 66.34\n",
            "Solved, Average reward is now 204.03 \n"
          ]
        }
      ]
    },
    {
      "cell_type": "code",
      "metadata": {
        "colab": {
          "base_uri": "https://localhost:8080/",
          "height": 282
        },
        "id": "T2t0lUcnEcKf",
        "outputId": "cb04dc0c-eb47-4758-8cb4-6bfd4602144d"
      },
      "source": [
        "plt.plot(RewardStats)"
      ],
      "execution_count": 9,
      "outputs": [
        {
          "output_type": "execute_result",
          "data": {
            "text/plain": [
              "[<matplotlib.lines.Line2D at 0x7f26142dca50>]"
            ]
          },
          "metadata": {},
          "execution_count": 9
        },
        {
          "output_type": "display_data",
          "data": {
            "image/png": "[encoded data removed]",
            "text/plain": [
              "<Figure size 432x288 with 1 Axes>"
            ]
          },
          "metadata": {
            "needs_background": "light"
          }
        }
      ]
    },
    {
      "cell_type": "code",
      "metadata": {
        "colab": {
          "base_uri": "https://localhost:8080/"
        },
        "id": "ETON96_QEcKg",
        "outputId": "26692b69-a2de-48d2-f73e-1d4ac234c8d7"
      },
      "source": [
        "test_rewards = []\n",
        "for each_episode in range(10):\n",
        "    obs = env.reset()\n",
        "    done = False\n",
        "    t=0\n",
        "    total_reward = 0\n",
        "    print(\"Episode : \", each_episode)\n",
        "\n",
        "    while(not done):\n",
        "        t += 1\n",
        "        action = select_action(obs)\n",
        "        obs, reward, done, _ = env.step(action)\n",
        "        total_reward = total_reward + reward\n",
        "        \n",
        "    test_rewards.append(total_reward)\n",
        "    print(\"Total Reward in this episode : \", total_reward)"
      ],
      "execution_count": 10,
      "outputs": [
        {
          "output_type": "stream",
          "name": "stdout",
          "text": [
            "Episode :  0\n",
            "Total Reward in this episode :  500.0\n",
            "Episode :  1\n",
            "Total Reward in this episode :  500.0\n",
            "Episode :  2\n",
            "Total Reward in this episode :  500.0\n",
            "Episode :  3\n",
            "Total Reward in this episode :  500.0\n",
            "Episode :  4\n",
            "Total Reward in this episode :  500.0\n",
            "Episode :  5\n",
            "Total Reward in this episode :  386.0\n",
            "Episode :  6\n",
            "Total Reward in this episode :  500.0\n",
            "Episode :  7\n",
            "Total Reward in this episode :  500.0\n",
            "Episode :  8\n",
            "Total Reward in this episode :  412.0\n",
            "Episode :  9\n",
            "Total Reward in this episode :  500.0\n"
          ]
        }
      ]
    },
    {
      "cell_type": "code",
      "metadata": {
        "colab": {
          "base_uri": "https://localhost:8080/",
          "height": 282
        },
        "id": "OeULyFk2MqJF",
        "outputId": "1556466e-7713-49e8-9daf-d85c920da6c4"
      },
      "source": [
        "plt.plot(test_rewards)"
      ],
      "execution_count": 11,
      "outputs": [
        {
          "output_type": "execute_result",
          "data": {
            "text/plain": [
              "[<matplotlib.lines.Line2D at 0x7f261378c6d0>]"
            ]
          },
          "metadata": {},
          "execution_count": 11
        },
        {
          "output_type": "display_data",
          "data": {
            "image/png": "[encoded data removed]",
            "text/plain": [
              "<Figure size 432x288 with 1 Axes>"
            ]
          },
          "metadata": {
            "needs_background": "light"
          }
        }
      ]
    },
    {
      "cell_type": "code",
      "metadata": {
        "colab": {
          "base_uri": "https://localhost:8080/",
          "height": 17
        },
        "id": "yg0Fo0RpM9Ka",
        "outputId": "457b0b7c-6ae8-42b2-ef9e-2e0770501040"
      },
      "source": [
        "from google.colab import files\n",
        "\n",
        "torch.save(model, 'CartPole_A2C_Checkpoint.pth')\n",
        "files.download('CartPole_A2C_Checkpoint.pth') "
      ],
      "execution_count": 12,
      "outputs": [
        {
          "output_type": "display_data",
          "data": {
            "application/javascript": [
              "\n",
              "    async function download(id, filename, size) {\n",
              "      if (!google.colab.kernel.accessAllowed) {\n",
              "        return;\n",
              "      }\n",
              "      const div = document.createElement('div');\n",
              "      const label = document.createElement('label');\n",
              "      label.textContent = `Downloading \"${filename}\": `;\n",
              "      div.appendChild(label);\n",
              "      const progress = document.createElement('progress');\n",
              "      progress.max = size;\n",
              "      div.appendChild(progress);\n",
              "      document.body.appendChild(div);\n",
              "\n",
              "      const buffers = [];\n",
              "      let downloaded = 0;\n",
              "\n",
              "      const channel = await google.colab.kernel.comms.open(id);\n",
              "      // Send a message to notify the kernel that we're ready.\n",
              "      channel.send({})\n",
              "\n",
              "      for await (const message of channel.messages) {\n",
              "        // Send a message to notify the kernel that we're ready.\n",
              "        channel.send({})\n",
              "        if (message.buffers) {\n",
              "          for (const buffer of message.buffers) {\n",
              "            buffers.push(buffer);\n",
              "            downloaded += buffer.byteLength;\n",
              "            progress.value = downloaded;\n",
              "          }\n",
              "        }\n",
              "      }\n",
              "      const blob = new Blob(buffers, {type: 'application/binary'});\n",
              "      const a = document.createElement('a');\n",
              "      a.href = window.URL.createObjectURL(blob);\n",
              "      a.download = filename;\n",
              "      div.appendChild(a);\n",
              "      a.click();\n",
              "      div.remove();\n",
              "    }\n",
              "  "
            ],
            "text/plain": [
              "<IPython.core.display.Javascript object>"
            ]
          },
          "metadata": {}
        },
        {
          "output_type": "display_data",
          "data": {
            "application/javascript": [
              "download(\"download_a0a77446-6181-440a-b3cd-5b6a227b3ee9\", \"CartPole_A2C_Checkpoint.pth\", 2537815)"
            ],
            "text/plain": [
              "<IPython.core.display.Javascript object>"
            ]
          },
          "metadata": {}
        }
      ]
    }
  ]
}