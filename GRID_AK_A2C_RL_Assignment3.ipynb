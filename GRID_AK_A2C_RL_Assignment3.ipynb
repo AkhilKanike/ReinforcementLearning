{
  "nbformat": 4,
  "nbformat_minor": 0,
  "metadata": {
    "kernelspec": {
      "display_name": "Python 3",
      "language": "python",
      "name": "python3"
    },
    "language_info": {
      "codemirror_mode": {
        "name": "ipython",
        "version": 3
      },
      "file_extension": ".py",
      "mimetype": "text/x-python",
      "name": "python",
      "nbconvert_exporter": "python",
      "pygments_lexer": "ipython3",
      "version": "3.7.6"
    },
    "colab": {
      "name": "GRID_AK_A2C_RL_Assignment3.ipynb",
      "provenance": [],
      "collapsed_sections": []
    }
  },
  "cells": [
    {
      "cell_type": "code",
      "metadata": {
        "id": "sBP5J16oEcKY"
      },
      "source": [
        "import gym\n",
        "from gym import spaces\n",
        "import numpy as np\n",
        "from google.colab import widgets\n",
        "import time\n",
        "import random\n",
        "from collections import deque\n",
        "import copy\n",
        "from statistics import mean\n",
        "from itertools import count\n",
        "from collections import namedtuple\n",
        "import matplotlib.pyplot as plt\n",
        "import torch\n",
        "import torch.nn as nn\n",
        "import torch.nn.functional as F\n",
        "import torch.optim as optim\n",
        "from torch.distributions import Categorical"
      ],
      "execution_count": 1,
      "outputs": []
    },
    {
      "cell_type": "markdown",
      "metadata": {
        "id": "j9tFY8U_Rlyo"
      },
      "source": [
        "# **Grid Environment**"
      ]
    },
    {
      "cell_type": "code",
      "metadata": {
        "id": "-3tb2_9MwOoz"
      },
      "source": [
        "class GridEnvironment(gym.Env):\n",
        "  def __init__(self, environment_type):\n",
        "    self.observation_space = spaces.Discrete(25)\n",
        "    self.action_space = spaces.Discrete(4)\n",
        "    self.max_timesteps = 75\n",
        "    self.environment_type = environment_type\n",
        "\n",
        "        \n",
        "  def reset(self):\n",
        "    self.timestep = 0\n",
        "        \n",
        "    self.agent_pos = [0, 0]\n",
        "    self.goal_pos = [4, 4]\n",
        "        \n",
        "    self.p_1_pos = [1, 0]\n",
        "    self.p_2_pos = [2, 2]\n",
        "    self.p_3_pos = [2, 4]\n",
        "    self.p_5_pos = [1, 4]\n",
        "    self.p_6_pos = [2, 0]\n",
        "\n",
        "    self.as_1_pos = [3, 3]\n",
        "    self.as_2_pos = [1, 1]\n",
        "    self.as_3_pos = [4, 2]\n",
        "    self.as_4_pos = [0, 2]\n",
        "    self.as_5_pos = [3, 0]\n",
        "    self.as_6_pos = [2, 3] \n",
        "\n",
        "    self.state = np.zeros((5, 5))\n",
        "\n",
        "    self.state[tuple(self.agent_pos)] = 1\n",
        "    self.state[tuple(self.goal_pos)] = 0.8\n",
        "        \n",
        "    self.as_discount_factor = 1\n",
        "    self.p_discount_factor = 1\n",
        "\n",
        "    self.p_pos_rew_dict = {tuple(self.p_1_pos):1, tuple(self.p_2_pos):1, tuple(self.p_3_pos):1, tuple(self.p_5_pos):1, tuple(self.p_6_pos):1}\n",
        "    self.as_pos_rew_dict = {tuple(self.as_1_pos):-1, tuple(self.as_2_pos):-1, tuple(self.as_3_pos):-1, tuple(self.as_4_pos):-1, tuple(self.as_5_pos):-1, tuple(self.as_6_pos):-1}\n",
        "    \n",
        "    for each_p_pos in self.p_pos_rew_dict:\n",
        "      self.state[each_p_pos] = 0.4\n",
        "\n",
        "    for each_as_pos in self.as_pos_rew_dict:\n",
        "      self.state[each_as_pos] = 0.2\n",
        "    #print(self.state)           \n",
        "    observation = self.state.flatten()\n",
        "    return observation\n",
        "    \n",
        "  def step(self, action):\n",
        "\n",
        "    #self.state = np.random.choice(self.observation_space.n)\n",
        "\n",
        "    if self.environment_type == \"deterministic\":\n",
        "      if action == 0:\n",
        "        self.agent_pos[0] += 1\n",
        "        #print(\"Down\")\n",
        "      if action == 1:\n",
        "        self.agent_pos[0] -= 1\n",
        "           # print(\"Up\")\n",
        "      if action == 2:\n",
        "        self.agent_pos[1] += 1\n",
        "           # print(\"Right\")\n",
        "      if action == 3:\n",
        "        self.agent_pos[1] -= 1\n",
        "           # print(\"Left\")\n",
        "        \n",
        "    elif self.environment_type == \"stochastic\":\n",
        "          \n",
        "      if action == 0:  #down\n",
        "        action_performed = np.random.choice((0,1), p=[0.1, 0.9])\n",
        "        if action_performed:              \n",
        "          self.agent_pos[0] += 1\n",
        "          print(\"Down\")\n",
        "        else:\n",
        "          self.agent_pos[0] -= 1\n",
        "          print(\"Down No, Up\")\n",
        "\n",
        "      if action == 1: #up\n",
        "        action_performed = np.random.choice((0,1), p=[0.2, 0.8])\n",
        "        if action_performed:\n",
        "          self.agent_pos[0] -= 1\n",
        "          # print(\"Up\")\n",
        "        else:\n",
        "          self.agent_pos[0] += 1\n",
        "        #  print(\"Up No, Down\")\n",
        "\n",
        "      if action == 2:  # right\n",
        "        action_performed = np.random.choice((0,1), p=[0.3, 0.7])\n",
        "        if action_performed:\n",
        "          self.agent_pos[1] += 1\n",
        "          # print(\"Right\")\n",
        "        else:\n",
        "          self.agent_pos[1] -= 1\n",
        "        #  print(\"Right No, Left\")\n",
        "\n",
        "      if action == 3: #left\n",
        "        self.agent_pos[1] -= 1\n",
        "      #  print(\"Left\")\n",
        "          \n",
        "    self.agent_pos = np.clip(self.agent_pos, 0, 4)\n",
        "    self.state = np.zeros((5,5))\n",
        "\n",
        "    for p_pos in self.p_pos_rew_dict:\n",
        "      if self.p_pos_rew_dict[p_pos]!=0:\n",
        "        self.state[p_pos] = 0.4\n",
        "\n",
        "    for as_pos in self.as_pos_rew_dict:\n",
        "      self.state[as_pos] = 0.2\n",
        "          \n",
        "        \n",
        "    self.state[tuple(self.goal_pos)] = 0.8\n",
        "    self.state[tuple(self.agent_pos)] = 1\n",
        "        \n",
        "        \n",
        "        \n",
        "    if (tuple(self.agent_pos) in self.p_pos_rew_dict) and (self.p_pos_rew_dict[tuple(self.agent_pos)] > 0):\n",
        "       reward = self.p_pos_rew_dict[tuple(self.agent_pos)]\n",
        "       self.p_pos_rew_dict[tuple(self.agent_pos)] = 0\n",
        "    elif tuple(self.agent_pos) in self.as_pos_rew_dict:\n",
        "      reward = self.as_pos_rew_dict[tuple(self.agent_pos)]        \n",
        "    elif tuple(self.agent_pos) == tuple(self.goal_pos):\n",
        "      reward = 1\n",
        "    else:\n",
        "      reward=0\n",
        "\n",
        "    for p_pos in self.p_pos_rew_dict:\n",
        "      self.p_pos_rew_dict[p_pos] =  self.p_pos_rew_dict[p_pos] * self.p_discount_factor\n",
        "\n",
        "    for as_pos in self.as_pos_rew_dict:\n",
        "      self.as_pos_rew_dict[as_pos] = self.as_pos_rew_dict[as_pos] * self.as_discount_factor\n",
        "            \n",
        "    self.timestep += 1\n",
        "    done = True if (self.timestep >= self.max_timesteps) or (self.agent_pos == self.goal_pos).all() else  False\n",
        "        \n",
        "    info = {}\n",
        "    observation = self.state.flatten()\n",
        "    return observation, reward, done, info\n",
        "    \n",
        "  def render(self):\n",
        "    plt.imshow(self.state)"
      ],
      "execution_count": 2,
      "outputs": []
    },
    {
      "cell_type": "markdown",
      "metadata": {
        "id": "f6JT7TRMYUXF"
      },
      "source": [
        "# Actor-Critic"
      ]
    },
    {
      "cell_type": "code",
      "metadata": {
        "id": "ZBH4vfYQEcKZ",
        "colab": {
          "base_uri": "https://localhost:8080/",
          "height": 265
        },
        "outputId": "0e124b46-9295-494a-a04a-c70883659ada"
      },
      "source": [
        "env = GridEnvironment(environment_type='deterministic')\n",
        "env.reset()\n",
        "env.render()"
      ],
      "execution_count": 3,
      "outputs": [
        {
          "output_type": "display_data",
          "data": {
            "image/png": "[encoded data removed]",
            "text/plain": [
              "<Figure size 432x288 with 1 Axes>"
            ]
          },
          "metadata": {
            "needs_background": "light"
          }
        }
      ]
    },
    {
      "cell_type": "code",
      "metadata": {
        "colab": {
          "base_uri": "https://localhost:8080/"
        },
        "id": "U8_PXvt2EcKa",
        "outputId": "01bbb0fa-634d-4d63-e35d-460046acc138"
      },
      "source": [
        "print(\"There are {} actions\".format(env.action_space.n))"
      ],
      "execution_count": 4,
      "outputs": [
        {
          "output_type": "stream",
          "name": "stdout",
          "text": [
            "There are 4 actions\n"
          ]
        }
      ]
    },
    {
      "cell_type": "code",
      "metadata": {
        "id": "iySnqX-fEcKb"
      },
      "source": [
        "class ActorCritic(nn.Module):\n",
        "    def __init__(self):\n",
        "        super(ActorCritic, self).__init__()\n",
        "        self.fc1 = nn.Linear(25, 256)\n",
        "        self.actor = nn.Linear(256, 4)\n",
        "        self.critic = nn.Linear(256, 1)\n",
        "        self.saved_actions = []\n",
        "        self.rewards = []\n",
        "    def forward(self, x):\n",
        "        x = F.relu(self.fc1(x))\n",
        "        action_prob = F.softmax(self.actor(x), dim=-1)\n",
        "        state_values = self.critic(x)\n",
        "        return action_prob, state_values"
      ],
      "execution_count": 5,
      "outputs": []
    },
    {
      "cell_type": "code",
      "metadata": {
        "id": "tjO7F59gEcKc"
      },
      "source": [
        "def select_action(state):\n",
        "    state = torch.from_numpy(state).float()\n",
        "    probs, state_value = model(state)\n",
        "    m = Categorical(probs)\n",
        "    action = m.sample()\n",
        "    model.saved_actions.append(SavedAction(m.log_prob(action), state_value))\n",
        "    return action.item()"
      ],
      "execution_count": 6,
      "outputs": []
    },
    {
      "cell_type": "code",
      "metadata": {
        "id": "eTouCwcuEcKd"
      },
      "source": [
        "def finish_episode():\n",
        "    R = 0\n",
        "    saved_actions = model.saved_actions\n",
        "    policy_losses = []\n",
        "    value_losses =[]\n",
        "    returns = []\n",
        "    \n",
        "    for r in model.rewards[::-1]:\n",
        "        R = r + 0.94 * R\n",
        "        returns.insert(0, R)\n",
        "    returns = torch.tensor(returns)\n",
        "    returns = (returns - returns.mean()) / (returns.std() + eps)\n",
        "    \n",
        "    for (log_prob, value), R in zip(saved_actions, returns):\n",
        "        advantage = R - value.item()\n",
        "        \n",
        "        policy_losses.append(-log_prob * advantage)\n",
        "        value_losses.append(F.smooth_l1_loss(value, torch.tensor([R])))\n",
        "    \n",
        "    optimizer.zero_grad()\n",
        "    loss = torch.stack(policy_losses).sum() + torch.stack(value_losses).sum()\n",
        "    \n",
        "    loss.backward()\n",
        "    optimizer.step()\n",
        "    \n",
        "    del model.rewards[:]\n",
        "    del model.saved_actions[:]"
      ],
      "execution_count": 7,
      "outputs": []
    },
    {
      "cell_type": "code",
      "metadata": {
        "id": "9nZuuy9KEcKe"
      },
      "source": [
        "model = ActorCritic()\n",
        "optimizer = optim.Adam(model.parameters(), lr=9e-3)\n",
        "eps = np.finfo(np.float32).eps.item()"
      ],
      "execution_count": 8,
      "outputs": []
    },
    {
      "cell_type": "code",
      "metadata": {
        "colab": {
          "base_uri": "https://localhost:8080/"
        },
        "id": "dKee23AxEcKe",
        "outputId": "6a2d5295-5ba7-422a-b276-60374a32db41"
      },
      "source": [
        "\n",
        "SavedAction = namedtuple('SavedAction', ['log_prob', 'value'])\n",
        "RewardStats= []\n",
        "for i_episode in range(1000):\n",
        "    state = env.reset()\n",
        "    Total_reward = 0\n",
        "    for t in range(1, 75):\n",
        "        action = select_action(state)\n",
        "        state, reward, done, _ = env.step(action)\n",
        "        model.rewards.append(reward)\n",
        "        Total_reward+= reward\n",
        "        if done:\n",
        "            break\n",
        "    RewardStats.append(Total_reward)\n",
        "    finish_episode()\n",
        "    if i_episode % 100 == 0:\n",
        "        print(\"Episode {}\\tLast Reward: {:.2f}\\tAverage reward: {:.2f}\".format(\n",
        "            i_episode, Total_reward, mean(RewardStats[-100:])\n",
        "        ))\n",
        "    if mean(RewardStats[-100:]) >= 5.75:\n",
        "        print(\"Solved, Average reward is now {} \".format(\n",
        "                mean(RewardStats[-100:])\n",
        "        ))\n",
        "        break"
      ],
      "execution_count": 9,
      "outputs": [
        {
          "output_type": "stream",
          "name": "stdout",
          "text": [
            "Episode 0\tLast Reward: -5.00\tAverage reward: -5.00\n",
            "Episode 100\tLast Reward: 6.00\tAverage reward: 1.75\n",
            "Episode 200\tLast Reward: 6.00\tAverage reward: 5.34\n",
            "Solved, Average reward is now 5.75 \n"
          ]
        }
      ]
    },
    {
      "cell_type": "code",
      "metadata": {
        "colab": {
          "base_uri": "https://localhost:8080/",
          "height": 265
        },
        "id": "N2sAJ0wSWXRH",
        "outputId": "0da6a577-7de0-4467-a315-ed421bf2285b"
      },
      "source": [
        "env.render()"
      ],
      "execution_count": 10,
      "outputs": [
        {
          "output_type": "display_data",
          "data": {
            "image/png": "[encoded data removed]",
            "text/plain": [
              "<Figure size 432x288 with 1 Axes>"
            ]
          },
          "metadata": {
            "needs_background": "light"
          }
        }
      ]
    },
    {
      "cell_type": "code",
      "metadata": {
        "colab": {
          "base_uri": "https://localhost:8080/",
          "height": 282
        },
        "id": "T2t0lUcnEcKf",
        "outputId": "784abf60-8e14-4b11-a3df-ee8e23225cf8"
      },
      "source": [
        "plt.plot(RewardStats)"
      ],
      "execution_count": 11,
      "outputs": [
        {
          "output_type": "execute_result",
          "data": {
            "text/plain": [
              "[<matplotlib.lines.Line2D at 0x7f15939c0890>]"
            ]
          },
          "metadata": {},
          "execution_count": 11
        },
        {
          "output_type": "display_data",
          "data": {
            "image/png": "[encoded data removed]",
            "text/plain": [
              "<Figure size 432x288 with 1 Axes>"
            ]
          },
          "metadata": {
            "needs_background": "light"
          }
        }
      ]
    },
    {
      "cell_type": "code",
      "metadata": {
        "colab": {
          "base_uri": "https://localhost:8080/"
        },
        "id": "ETON96_QEcKg",
        "outputId": "fd6974ee-ddc3-4119-dd80-bf7834b2dcb0"
      },
      "source": [
        "test_rewards = []\n",
        "for each_episode in range(10):\n",
        "    obs = env.reset()\n",
        "    done = False\n",
        "    t=0\n",
        "    total_reward = 0\n",
        "    print(\"Episode : \", each_episode)\n",
        "\n",
        "    while(not done):\n",
        "        t += 1\n",
        "        action = select_action(obs)\n",
        "        obs, reward, done, _ = env.step(action)\n",
        "        total_reward = total_reward + reward\n",
        "        \n",
        "    test_rewards.append(total_reward)\n",
        "    print(\"Total Reward in this episode : \", total_reward)"
      ],
      "execution_count": 12,
      "outputs": [
        {
          "output_type": "stream",
          "name": "stdout",
          "text": [
            "Episode :  0\n",
            "Total Reward in this episode :  6\n",
            "Episode :  1\n",
            "Total Reward in this episode :  6\n",
            "Episode :  2\n",
            "Total Reward in this episode :  6\n",
            "Episode :  3\n",
            "Total Reward in this episode :  6\n",
            "Episode :  4\n",
            "Total Reward in this episode :  6\n",
            "Episode :  5\n",
            "Total Reward in this episode :  6\n",
            "Episode :  6\n",
            "Total Reward in this episode :  6\n",
            "Episode :  7\n",
            "Total Reward in this episode :  6\n",
            "Episode :  8\n",
            "Total Reward in this episode :  6\n",
            "Episode :  9\n",
            "Total Reward in this episode :  6\n"
          ]
        }
      ]
    },
    {
      "cell_type": "code",
      "metadata": {
        "colab": {
          "base_uri": "https://localhost:8080/",
          "height": 282
        },
        "id": "OeULyFk2MqJF",
        "outputId": "f7fce525-e82f-4955-835b-9c0f7e282c90"
      },
      "source": [
        "plt.plot(test_rewards)"
      ],
      "execution_count": 13,
      "outputs": [
        {
          "output_type": "execute_result",
          "data": {
            "text/plain": [
              "[<matplotlib.lines.Line2D at 0x7f159397b3d0>]"
            ]
          },
          "metadata": {},
          "execution_count": 13
        },
        {
          "output_type": "display_data",
          "data": {
            "image/png": "[encoded data removed]",
            "text/plain": [
              "<Figure size 432x288 with 1 Axes>"
            ]
          },
          "metadata": {
            "needs_background": "light"
          }
        }
      ]
    },
    {
      "cell_type": "code",
      "metadata": {
        "id": "y7euN6x6K909",
        "colab": {
          "base_uri": "https://localhost:8080/",
          "height": 17
        },
        "outputId": "fb3f5fa4-af22-4a5f-864a-e9e53527e691"
      },
      "source": [
        "from google.colab import files\n",
        "\n",
        "torch.save(model, 'GRID_A2C_Checkpoint.pth')\n",
        "files.download('GRID_A2C_Checkpoint.pth') "
      ],
      "execution_count": 14,
      "outputs": [
        {
          "output_type": "display_data",
          "data": {
            "application/javascript": [
              "\n",
              "    async function download(id, filename, size) {\n",
              "      if (!google.colab.kernel.accessAllowed) {\n",
              "        return;\n",
              "      }\n",
              "      const div = document.createElement('div');\n",
              "      const label = document.createElement('label');\n",
              "      label.textContent = `Downloading \"${filename}\": `;\n",
              "      div.appendChild(label);\n",
              "      const progress = document.createElement('progress');\n",
              "      progress.max = size;\n",
              "      div.appendChild(progress);\n",
              "      document.body.appendChild(div);\n",
              "\n",
              "      const buffers = [];\n",
              "      let downloaded = 0;\n",
              "\n",
              "      const channel = await google.colab.kernel.comms.open(id);\n",
              "      // Send a message to notify the kernel that we're ready.\n",
              "      channel.send({})\n",
              "\n",
              "      for await (const message of channel.messages) {\n",
              "        // Send a message to notify the kernel that we're ready.\n",
              "        channel.send({})\n",
              "        if (message.buffers) {\n",
              "          for (const buffer of message.buffers) {\n",
              "            buffers.push(buffer);\n",
              "            downloaded += buffer.byteLength;\n",
              "            progress.value = downloaded;\n",
              "          }\n",
              "        }\n",
              "      }\n",
              "      const blob = new Blob(buffers, {type: 'application/binary'});\n",
              "      const a = document.createElement('a');\n",
              "      a.href = window.URL.createObjectURL(blob);\n",
              "      a.download = filename;\n",
              "      div.appendChild(a);\n",
              "      a.click();\n",
              "      div.remove();\n",
              "    }\n",
              "  "
            ],
            "text/plain": [
              "<IPython.core.display.Javascript object>"
            ]
          },
          "metadata": {}
        },
        {
          "output_type": "display_data",
          "data": {
            "application/javascript": [
              "download(\"download_98672c21-d7c5-462f-bd73-96d7c3a94880\", \"GRID_A2C_Checkpoint.pth\", 126833)"
            ],
            "text/plain": [
              "<IPython.core.display.Javascript object>"
            ]
          },
          "metadata": {}
        }
      ]
    }
  ]
}